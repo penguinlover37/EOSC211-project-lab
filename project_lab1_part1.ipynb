{
 "cells": [
  {
   "cell_type": "markdown",
   "id": "a0fb4a24-971f-449b-bbda-ee3776989b42",
   "metadata": {},
   "source": [
    "# Project Lab #1: Part 1\n",
    "## Writing a Core Function and Planning your Algorithm\n",
    "\n",
    "Write your code in a new notebook (i.e. not in this notebook).\n",
    "\n",
    "### A) Write the function `grav_acc`. \n",
    "`grav_acc` should take a single spacecraft position and planet mass and compute the gravitational acceleration on the spacecraft.  The function description below provides the information you need to construct this function.\n",
    "\n",
    "#### function 1: `grav_acc` \n",
    "\n",
    "**Code:** The body of `grav_acc` should: \n",
    "- Calculate the magnitude of the position vector $|s|$ given components `s_x`, `s_y` for a single spacecraft position. \n",
    "- Calculate the magnitude of the instantaneous spacecraft acceleration at $|s|$ using  Equations (1) and (2).\n",
    "- Calculate the components of acceleration $(a_x, a_y)$ using Equations (3) - (6). \n",
    "\n",
    "**Usage:**\n",
    "```python\n",
    "a_x, a_y = grav_acc(s_x, s_y, planet_mass)  \n",
    "```\n",
    "**Inputs:** \n",
    "-  `s_x, s_y`:  x, y components of a single position vector in m.\n",
    "- `planet_mass`: the mass of the planet $M_\\mathrm{p}$ in kg.\n",
    "\n",
    "**Outputs:** \n",
    "- `a_x, a_y`: x, y components of instantaneous spacecraft acceleration in m/s^2.\n",
    "\n",
    "<br>"
   ]
  },
  {
   "cell_type": "code",
   "execution_count": 12,
   "id": "fbbbc675-59e4-4232-8592-2f0a23358031",
   "metadata": {},
   "outputs": [],
   "source": [
    "import numpy as np\n",
    "import math"
   ]
  },
  {
   "cell_type": "code",
   "execution_count": 13,
   "id": "87c9b376-b772-446a-85d1-09e3488382ec",
   "metadata": {},
   "outputs": [],
   "source": [
    "def grav_acc(s_x, s_y, planet_mass):\n",
    "    '''\n",
    "    takes in x,y components of position vector from the planet and mass of planet\n",
    "    finds acceleration components\n",
    "    '''\n",
    "    s = math.sqrt(s_x**2 + s_y**2)\n",
    "    #formula for a is GMp/s^2\n",
    "    big_G = 6.67e-11\n",
    "    a = (big_G*planet_mass)/(s**2)\n",
    "\n",
    "    sin_beta = -(s_x)/s\n",
    "    cos_beta = -(s_y)/s\n",
    "\n",
    "    a_x = a * sin_beta\n",
    "    a_y = a * cos_beta\n",
    "\n",
    "    return(a_x, a_y)"
   ]
  },
  {
   "cell_type": "markdown",
   "id": "17aa7027-8555-4edc-8925-70f8bfacbf8f",
   "metadata": {},
   "source": [
    "___ \n",
    "\n",
    "### B) Test your function.\n",
    " \n",
    "For $M_p$ use the mass of the Earth: 5.9722 x 10$^{24}$ kg.\n",
    "\n",
    "Write a loop that will loop through the following three test positions and print the resulting values for `a_x` and `a_y` to the screen:\n",
    "\n",
    "- a) Assume `s_x` = 0,  `s_y` = 6371 km.  The output from `grav_acc` should be `a_x` = 0, `a_y` = -9.8 ms$^{-2}$.  Is the sign and magnitude of the acceleration what you expect? \n",
    "        Hint: Earth's radius is 6371 km, so what acceleration do you expect for the test position given?\n",
    "\n",
    "\n",
    "- b) Assume `s_x` = `s_y` = -4787 km.  The output from `grav_acc` should be `a_x` = `a_y` = 6.15 ms$^{-2}$. Do the signs of `a_x` and `a_y` and the fact that the absolute value of each component is equal make sense?  Write a comment in the cell or print a message to the screen explaining your rationale.\n",
    "\n",
    "\n",
    "- c) Now assume `s_x` = 6771 km, `s_y` = 0 km.  The output from `grav_acc` should be `a_x` = -8.69 ms$^{-2}$,  `a_y` = 0 ms$^{-2}$.   Does the sign of `a_x` and the fact that `a_y = 0` make sense?  Write a comment in the cell or message to the screen explaining your rationale.\n",
    "\n",
    "\n",
    "Add to your loop calculation of the altitude of the locations in (b) and (c) above the Earth's surface.  **See the week02 lab (!) if you've forgotten how to do this.** Check for yourself that both positions correspond to an altitude of 400 km.  Is the magnitude of the acceleration in each case reasonable, c.f. what you got in (a)?  Write a comment in the cell or message to the screen explaining your rationale.  "
   ]
  },
  {
   "cell_type": "code",
   "execution_count": 22,
   "id": "981d3beb-0522-4160-8373-9a0ba44e92e7",
   "metadata": {},
   "outputs": [
    {
     "name": "stdout",
     "output_type": "stream",
     "text": [
      "(0.0, -9.813975442650502) 0.0 0\n",
      "(6.145940176891181, 6.145940176891181) 398840.32308000606 0\n",
      "(-8.688694941445945, 0.0) 400000.0 0\n"
     ]
    }
   ],
   "source": [
    "planet_mass = 5.9722e24\n",
    "\n",
    "#test case\n",
    "s_xs = [0, -4787*1000, 6771000]\n",
    "s_ys = [6371000,-4787*1000, 0]\n",
    "altitude = 0\n",
    "counter = 0\n",
    "radius = 6371000\n",
    "combined = []\n",
    "for s_x, s_y in zip(s_xs, s_ys):\n",
    "    output = grav_acc(s_x, s_y, planet_mass)\n",
    "    \n",
    "    s = math.sqrt(s_x**2 + s_y**2)\n",
    "    altitude = (s - radius)\n",
    "        \n",
    "    print(output, altitude, counter)"
   ]
  },
  {
   "cell_type": "markdown",
   "id": "b9a2b7e5-5a8c-474c-9454-94ee1f07eed9",
   "metadata": {},
   "source": []
  },
  {
   "cell_type": "markdown",
   "id": "120eb19e-f911-45c9-b803-8028dea6bdb0",
   "metadata": {},
   "source": [
    "___ \n",
    "\n",
    "### C) Pseudo-code:\n",
    "\n",
    "Key to writing more complex code successfully (i.e. in reasonable time with minimal frustration) is planning out your algorithm BEFORE starting to code.  Here you will plan out the steps needed to compute a complete spacecraft trajectory given a starting position, velocity, total time of the flyby and the time interval at which you will compute the spacecraft position (and hence velocity and acceleration).\n",
    "\n",
    "Notice that there are a series of \"actions\" that are repeated at EACH point along the trajectory (time step). Furthermore each spacecraft position depends on the one before it.  So if you know where it is at time $t = 0$, and you know it's initial speeed, you can compute the spacecraft's acceleration, then for a given time interval $\\Delta t$ you can calculate the change in spacecraft position and velocity using Equations (10)-(13). The new position of the spacecraft after $\\Delta t$ is then the old position plus the change in position; same thing for velocity.\n",
    "\n",
    "The following comments begin to set up the structure for the calculations.  Fill this in as much as possible. You can write it by hand and submit a PDF of a photo or (easier for us to read) write it in a separate notebook that you save as a PDF.   You don't have to write full code but make sure each step you specify is one step that is as precise as possible.  For now, assume you have just one function you will call which is your `grav_acc` function.  \n",
    "\n",
    "Assume you want to make arrays with variable names and shapes as follows that when you are done will contain the quantities specified.  This will enable you to plot e.g. acceleration versus time, position versus time etc. \n",
    "\n",
    "```\n",
    "time: an array of times with shape (nt, ).\n",
    "acc: (acc_x, acc_y), an array of spacecraft accelerations with shape (nt, 2).\n",
    "vel: (vel_x, vel_y), an array of spacecraft velocities with shape (nt, 2) .\n",
    "pos: (pos_x, pos_y), an array of spacecraft positions with shape (nt, 2).\n",
    "```\n",
    "\n",
    "#### Pseudo-code outline:  \n",
    "\n",
    "```python\n",
    "\n",
    "# set up initial conditions \n",
    "\n",
    "\n",
    "# initialize any arrays / do any initial calculations\n",
    "\n",
    "\n",
    "# for each time step:\n",
    "\n",
    "    # calculate acceleration \n",
    "    #  (this can be at beginning or end of loop depending on how you initialize \n",
    "    #   your calculations before going into the loop for the first time).\n",
    "    \n",
    "    # calculate change in vel, position during the time step\n",
    "    \n",
    "    # update vel and position\n",
    "    \n",
    "    \n",
    "# do any last calculations\n",
    "\n",
    "```\n",
    "\n",
    "\n",
    "___ \n",
    "\n",
    "### Part 1 SUBMISSION - OPTIONAL, DUE FRIDAY Nov 10 (Wk 10), 4 pm on Canvas.   SUBMIT:\n",
    "\n",
    "- A single Jupyter notebook with ONLY 2 cells with contents as follows\n",
    "> - Cell 1: A markdown cell with your names and student numbers\n",
    "> - Cell 2: A code cell with import statements and your `grav_acc` function\n",
    "    \n",
    "- A PDF of your pseudo code.\n",
    "\n",
    "Remember to have suppressed any extra `print` statements in your notebook that aren't necessary.  You will reuse the Jupyter notebook submitted above in Part 2 of the project lab, adding more functions to it.\n",
    "\n",
    "___ "
   ]
  },
  {
   "cell_type": "code",
   "execution_count": null,
   "id": "09d373d1-1f0c-44a4-a9ad-7d752c78c5fe",
   "metadata": {},
   "outputs": [],
   "source": []
  }
 ],
 "metadata": {
  "kernelspec": {
   "display_name": "Python 3 (ipykernel)",
   "language": "python",
   "name": "python3"
  },
  "language_info": {
   "codemirror_mode": {
    "name": "ipython",
    "version": 3
   },
   "file_extension": ".py",
   "mimetype": "text/x-python",
   "name": "python",
   "nbconvert_exporter": "python",
   "pygments_lexer": "ipython3",
   "version": "3.10.12"
  },
  "vscode": {
   "interpreter": {
    "hash": "a3e6ea69fc12a6e7dbb5acbcc7c944b8479147e4ba52417199f24dc1e53034b0"
   }
  }
 },
 "nbformat": 4,
 "nbformat_minor": 5
}
